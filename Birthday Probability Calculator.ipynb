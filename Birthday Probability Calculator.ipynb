{
 "cells": [
  {
   "cell_type": "code",
   "execution_count": 52,
   "metadata": {
    "scrolled": false
   },
   "outputs": [
    {
     "data": {
      "text/html": [
       "<div>\n",
       "<style>\n",
       "    .dataframe thead tr:only-child th {\n",
       "        text-align: right;\n",
       "    }\n",
       "\n",
       "    .dataframe thead th {\n",
       "        text-align: left;\n",
       "    }\n",
       "\n",
       "    .dataframe tbody tr th {\n",
       "        vertical-align: top;\n",
       "    }\n",
       "</style>\n",
       "<table border=\"1\" class=\"dataframe\">\n",
       "  <thead>\n",
       "    <tr style=\"text-align: right;\">\n",
       "      <th></th>\n",
       "      <th>BirthdayThatAreSame</th>\n",
       "      <th>Probability</th>\n",
       "    </tr>\n",
       "  </thead>\n",
       "  <tbody>\n",
       "    <tr>\n",
       "      <th>0</th>\n",
       "      <td>0</td>\n",
       "      <td>0.539775</td>\n",
       "    </tr>\n",
       "    <tr>\n",
       "      <th>1</th>\n",
       "      <td>1</td>\n",
       "      <td>0.359850</td>\n",
       "    </tr>\n",
       "    <tr>\n",
       "      <th>2</th>\n",
       "      <td>2</td>\n",
       "      <td>0.059975</td>\n",
       "    </tr>\n",
       "    <tr>\n",
       "      <th>3</th>\n",
       "      <td>3</td>\n",
       "      <td>0.009996</td>\n",
       "    </tr>\n",
       "    <tr>\n",
       "      <th>4</th>\n",
       "      <td>4</td>\n",
       "      <td>0.000416</td>\n",
       "    </tr>\n",
       "  </tbody>\n",
       "</table>\n",
       "</div>"
      ],
      "text/plain": [
       "   BirthdayThatAreSame  Probability\n",
       "0                    0     0.539775\n",
       "1                    1     0.359850\n",
       "2                    2     0.059975\n",
       "3                    3     0.009996\n",
       "4                    4     0.000416"
      ]
     },
     "execution_count": 52,
     "metadata": {},
     "output_type": "execute_result"
    }
   ],
   "source": [
    "import numpy as np\n",
    "import pandas as pd\n",
    "\n",
    "#Create list that holds the number of people that have the same birth day\n",
    "group = [0, 1, 2, 3, 4]\n",
    "#Probability of success\n",
    "suc = 1/7\n",
    "#Probability of fail\n",
    "fail = 6/7\n",
    "#Create list that holds all the probabilities \n",
    "probabilities = [(fail * fail * fail * fail),(suc * fail * fail * fail * 4 ) , (suc * suc * fail * fail) * 4, (suc * suc * suc * fail) * 4, (suc * suc * suc * suc)]\n",
    "#Convert lists to narray to be used in data frame\n",
    "groupArray = np.asarray(group)\n",
    "probArray = np.asarray(probabilities)\n",
    "#Put data into data frame\n",
    "data = pd.DataFrame({\"BirthdayThatAreSame\" : groupArray, \"Probability\" : probArray})\n",
    "data\n"
   ]
  },
  {
   "cell_type": "code",
   "execution_count": 54,
   "metadata": {},
   "outputs": [
    {
     "name": "stdout",
     "output_type": "stream",
     "text": [
      "The expected value is: 0.5115\n"
     ]
    }
   ],
   "source": [
    "#Default value for expected value because the formula requires a sumation\n",
    "expected = 0\n",
    "#For all values in the table...\n",
    "for i in range(1, len(data)):\n",
    "    #Calculate expected value\n",
    "    expected += data[\"BirthdayThatAreSame\"].values.item(i) * data[\"Probability\"].values.item(i)\n",
    "print(\"The expected value is: \" + str(round(expected, 4)))\n"
   ]
  },
  {
   "cell_type": "code",
   "execution_count": 42,
   "metadata": {},
   "outputs": [
    {
     "name": "stdout",
     "output_type": "stream",
     "text": [
      "The Standard Deviation is: 0.6534\n"
     ]
    }
   ],
   "source": [
    "#Default value for varience because the formula requires a sumation\n",
    "var = 0\n",
    "#For all values in the table...\n",
    "for i in range(0, len(data)): \n",
    "    #Calculate the Standard deviation\n",
    "    value = ((data[\"BirthdayThatAreSame\"].values.item(i) - expected)**2) * data[\"Probability\"].values.item(i)\n",
    "    var += value \n",
    "#Squareroot varience\n",
    "std = var**.5\n",
    "\n",
    "print(\"The Standard Deviation is: \" + str(round(std, 4)))"
   ]
  },
  {
   "cell_type": "code",
   "execution_count": null,
   "metadata": {
    "collapsed": true
   },
   "outputs": [],
   "source": []
  },
  {
   "cell_type": "code",
   "execution_count": 85,
   "metadata": {},
   "outputs": [
    {
     "name": "stdout",
     "output_type": "stream",
     "text": [
      "5389\n",
      "The expected number of people that have their birthday on a friday is: 0.5389\n",
      "       Group       Week\n",
      "0          1  Wednesday\n",
      "1          2     Monday\n",
      "2          3   Saturday\n",
      "3          4     Friday\n",
      "4          1   Thursday\n",
      "5          2   Thursday\n",
      "6          3     Friday\n",
      "7          4  Wednesday\n",
      "8          1     Monday\n",
      "9          2   Thursday\n",
      "10         3     Sunday\n",
      "11         4     Friday\n",
      "12         1     Monday\n",
      "13         2     Monday\n",
      "14         3     Sunday\n",
      "15         4     Monday\n",
      "16         1  Wednesday\n",
      "17         2    Tuesday\n",
      "18         3     Sunday\n",
      "19         4     Monday\n",
      "20         1     Monday\n",
      "21         2     Friday\n",
      "22         3     Monday\n",
      "23         4    Tuesday\n",
      "24         1   Saturday\n",
      "25         2     Monday\n",
      "26         3  Wednesday\n",
      "27         4   Saturday\n",
      "28         1   Saturday\n",
      "29         2     Friday\n",
      "...      ...        ...\n",
      "39970      3   Thursday\n",
      "39971      4     Monday\n",
      "39972      1  Wednesday\n",
      "39973      2     Sunday\n",
      "39974      3  Wednesday\n",
      "39975      4     Sunday\n",
      "39976      1  Wednesday\n",
      "39977      2     Friday\n",
      "39978      3    Tuesday\n",
      "39979      4   Saturday\n",
      "39980      1     Friday\n",
      "39981      2   Thursday\n",
      "39982      3   Saturday\n",
      "39983      4     Friday\n",
      "39984      1     Monday\n",
      "39985      2  Wednesday\n",
      "39986      3    Tuesday\n",
      "39987      4     Sunday\n",
      "39988      1    Tuesday\n",
      "39989      2     Sunday\n",
      "39990      3     Friday\n",
      "39991      4     Monday\n",
      "39992      1  Wednesday\n",
      "39993      2    Tuesday\n",
      "39994      3   Thursday\n",
      "39995      4   Saturday\n",
      "39996      1    Tuesday\n",
      "39997      2   Saturday\n",
      "39998      3   Saturday\n",
      "39999      4  Wednesday\n",
      "\n",
      "[40000 rows x 2 columns]\n"
     ]
    }
   ],
   "source": [
    "from random import randint\n",
    "#Create list of days of the week\n",
    "daysOfWeek = [\"Monday\", \"Tuesday\", \"Wednesday\", \"Thursday\", \"Friday\", \"Saturday\", \"Sunday\"]\n",
    "#Create list for number of people\n",
    "personNumber = [1, 2, 3, 4]\n",
    "#Create two  empty arrays to be filled and converted to narrays\n",
    "week = []\n",
    "groups = []\n",
    "for e in range(0, 10000):\n",
    "    for i in personNumber:\n",
    "        #Assign a random day to a person\n",
    "        rand = randint(0,6)\n",
    "        week.append(daysOfWeek[rand])\n",
    "        groups.append(i)\n",
    "#Convert list to narray\n",
    "w = np.asarray(week)\n",
    "g = np.asarray(groups)\n",
    "#Create data frame\n",
    "data2 = pd.DataFrame({\"Group\" : g, \"Week\" : w})\n",
    "#Default values to iterate one group at a time is intialized to 1 and 4\n",
    "x = 1\n",
    "y = 4\n",
    "#Initialize counter\n",
    "counter = 0\n",
    "#Initialize total\n",
    "total = 0\n",
    "#Check if at least two people have a birthday on a friday\n",
    "for e in range(0, 10000):\n",
    "    #Everytime loop iterates set counter back to 0\n",
    "    counter1 = 0\n",
    "    counter2 = 0\n",
    "    counter3 = 0\n",
    "    counter4 = 0\n",
    "    #for each value in one group\n",
    "    for i in range(x, y):\n",
    "        #If person 1 was born on a friday add 1      \n",
    "        if data2[\"Group\"].values.item(i) == 1 and data2[\"Week\"].values.item(i) == \"Friday\":\n",
    "            counter1 = 1\n",
    "        #If person 2 was born on a friday add 1\n",
    "        if data2[\"Group\"].values.item(i) == 2 and data2[\"Week\"].values.item(i) == \"Friday\":\n",
    "            counter2 = 1\n",
    "        #If person 3 was born on a friday add 1\n",
    "        if data2[\"Group\"].values.item(i) == 3 and data2[\"Week\"].values.item(i) == \"Friday\":\n",
    "            counter3 = 1\n",
    "        #If person 4 was born on a friday add 1\n",
    "        if data2[\"Group\"].values.item(i) == 4 and data2[\"Week\"].values.item(i) == \"Friday\":\n",
    "            counter4 = 1\n",
    "        #count how many people were born on a friday in current group\n",
    "        counter = (counter1 + counter2 + counter2 + counter4)\n",
    "        #If at least one person has a birthday in a group add 1 to the total\n",
    "        if counter > 0:\n",
    "            total += 1\n",
    "        \n",
    "    #Increment 4 to iterate trhough the next group\n",
    "    x += 4\n",
    "    y += 4\n",
    "print(total)\n",
    "#Calculate value over total amount\n",
    "print(\"The expected number of people that have their birthday on a friday is: \" + str(round(ans, 4)))\n"
   ]
  },
  {
   "cell_type": "code",
   "execution_count": null,
   "metadata": {
    "collapsed": true
   },
   "outputs": [],
   "source": []
  },
  {
   "cell_type": "code",
   "execution_count": null,
   "metadata": {
    "collapsed": true
   },
   "outputs": [],
   "source": []
  }
 ],
 "metadata": {
  "kernelspec": {
   "display_name": "Python 3",
   "language": "python",
   "name": "python3"
  },
  "language_info": {
   "codemirror_mode": {
    "name": "ipython",
    "version": 3
   },
   "file_extension": ".py",
   "mimetype": "text/x-python",
   "name": "python",
   "nbconvert_exporter": "python",
   "pygments_lexer": "ipython3",
   "version": "3.6.1"
  }
 },
 "nbformat": 4,
 "nbformat_minor": 2
}
